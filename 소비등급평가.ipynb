{
 "cells": [
  {
   "cell_type": "markdown",
   "metadata": {},
   "source": [
    "이미 부여된 소비등급이 어떤 기준으로 부여되었던 것인지, 또한 소비등급을 제외한 나머지 변수를 이용해 직접 등급을 매겼을 때는\\\n",
    "소비등급의 결과가 어떻게 나올 수 있는지 확인해보기 위해 군집화 및 분류예측을 해보고자 한다."
   ]
  },
  {
   "cell_type": "code",
   "execution_count": null,
   "metadata": {},
   "outputs": [],
   "source": []
  }
 ],
 "metadata": {
  "language_info": {
   "name": "python"
  }
 },
 "nbformat": 4,
 "nbformat_minor": 2
}
